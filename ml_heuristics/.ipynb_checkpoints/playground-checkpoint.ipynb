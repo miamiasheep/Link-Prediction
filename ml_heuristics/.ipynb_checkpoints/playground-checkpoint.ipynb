{
 "cells": [
  {
   "cell_type": "code",
   "execution_count": 1,
   "metadata": {
    "collapsed": true
   },
   "outputs": [],
   "source": [
    "# note\n",
    "\n",
    "# 1, output probability\n",
    "# 2, the higher the prob, the higher the ranking\n",
    "# 3, then f1, auc can be calculated"
   ]
  },
  {
   "cell_type": "markdown",
   "metadata": {},
   "source": [
    "# load data"
   ]
  },
  {
   "cell_type": "code",
   "execution_count": 1,
   "metadata": {
    "collapsed": true
   },
   "outputs": [],
   "source": [
    "import pandas as pd\n",
    "import numpy as np\n",
    "import matplotlib.pyplot as plt\n",
    "from collections import Counter\n",
    "\n",
    "%matplotlib inline"
   ]
  },
  {
   "cell_type": "code",
   "execution_count": 5,
   "metadata": {
    "collapsed": true
   },
   "outputs": [],
   "source": [
    "from sklearn.linear_model import LogisticRegression\n",
    "from sklearn.ensemble import RandomForestClassifier\n",
    "from sklearn.svm import SVC\n",
    "\n",
    "from sklearn.grid_search import GridSearchCV\n",
    "\n",
    "from sklearn.metrics import classification_report\n",
    "from sklearn.metrics import roc_auc_score"
   ]
  },
  {
   "cell_type": "code",
   "execution_count": 3,
   "metadata": {
    "collapsed": true
   },
   "outputs": [],
   "source": [
    "res_auc = pd.read_csv(\"../result/auc.csv\")\n",
    "res_f1 = pd.read_csv(\"../result/f1.csv\")"
   ]
  },
  {
   "cell_type": "code",
   "execution_count": 4,
   "metadata": {
    "collapsed": true
   },
   "outputs": [],
   "source": [
    "data_name = res_auc[\"Unnamed: 0\"]"
   ]
  },
  {
   "cell_type": "markdown",
   "metadata": {},
   "source": [
    "# main "
   ]
  },
  {
   "cell_type": "code",
   "execution_count": 8,
   "metadata": {},
   "outputs": [
    {
     "name": "stdout",
     "output_type": "stream",
     "text": [
      "Celegans\n",
      "facebook\n",
      "NS\n",
      "PB\n",
      "Power\n",
      "Router\n",
      "USAir\n",
      "Yeast\n",
      "CPU times: user 1min 12s, sys: 3.25 s, total: 1min 15s\n",
      "Wall time: 8min 33s\n"
     ]
    },
    {
     "data": {
      "text/plain": [
       "<matplotlib.figure.Figure at 0x7f34905337b8>"
      ]
     },
     "metadata": {},
     "output_type": "display_data"
    },
    {
     "data": {
      "text/plain": [
       "<matplotlib.figure.Figure at 0x7f345c714208>"
      ]
     },
     "metadata": {},
     "output_type": "display_data"
    },
    {
     "data": {
      "text/plain": [
       "<matplotlib.figure.Figure at 0x7f345f0cc1d0>"
      ]
     },
     "metadata": {},
     "output_type": "display_data"
    },
    {
     "data": {
      "text/plain": [
       "<matplotlib.figure.Figure at 0x7f3497f72e10>"
      ]
     },
     "metadata": {},
     "output_type": "display_data"
    },
    {
     "data": {
      "text/plain": [
       "<matplotlib.figure.Figure at 0x7f345c26c400>"
      ]
     },
     "metadata": {},
     "output_type": "display_data"
    },
    {
     "data": {
      "text/plain": [
       "<matplotlib.figure.Figure at 0x7f345c267b00>"
      ]
     },
     "metadata": {},
     "output_type": "display_data"
    },
    {
     "data": {
      "text/plain": [
       "<matplotlib.figure.Figure at 0x7f345c273c18>"
      ]
     },
     "metadata": {},
     "output_type": "display_data"
    },
    {
     "data": {
      "text/plain": [
       "<matplotlib.figure.Figure at 0x7f345c275cc0>"
      ]
     },
     "metadata": {},
     "output_type": "display_data"
    }
   ],
   "source": [
    "%%time\n",
    "\n",
    "rf_res_auc = []\n",
    "rf_res_f1 = []\n",
    "\n",
    "logistic_res_auc = []\n",
    "logistic_res_f1 = []\n",
    "\n",
    "for i in data_name:\n",
    "    print(i)\n",
    "    \n",
    "    df = pd.read_csv(\"{}_training.csv\".format(i))\n",
    "    testing = pd.read_csv(\"{}_testing.csv\".format(i))\n",
    "    \n",
    "    auc, f1 = rf(df, testing)\n",
    "    rf_res_auc.append(auc)\n",
    "    rf_res_f1.append(f1)\n",
    "    \n",
    "    auc, f1 = logistic(df, testing)\n",
    "    logistic_res_auc.append(auc)\n",
    "    logistic_res_f1.append(f1)\n",
    "    \n",
    "    "
   ]
  },
  {
   "cell_type": "code",
   "execution_count": 9,
   "metadata": {
    "collapsed": true
   },
   "outputs": [],
   "source": [
    "res_auc[\"rf\"] = rf_res_auc\n",
    "res_auc[\"logistic\"] = logistic_res_auc\n",
    "res_f1[\"rf\"] = rf_res_f1\n",
    "res_f1[\"logistic\"] = logistic_res_f1\n",
    "\n",
    "res_auc.to_csv(\"../result/auc.csv\", index=False)\n",
    "res_f1.to_csv(\"../result/f1.csv\", index=False)"
   ]
  },
  {
   "cell_type": "code",
   "execution_count": null,
   "metadata": {
    "collapsed": true
   },
   "outputs": [],
   "source": []
  },
  {
   "cell_type": "code",
   "execution_count": null,
   "metadata": {
    "collapsed": true
   },
   "outputs": [],
   "source": []
  },
  {
   "cell_type": "markdown",
   "metadata": {},
   "source": [
    "# random forest"
   ]
  },
  {
   "cell_type": "code",
   "execution_count": 6,
   "metadata": {
    "collapsed": true
   },
   "outputs": [],
   "source": [
    "def rf(df, testing):\n",
    "    model = RandomForestClassifier()\n",
    "    param_grid = { \n",
    "        'n_estimators': [100, 200, 300, 500],\n",
    "        'max_features': ['sqrt', 'log2'],\n",
    "        'max_depth' : [4,5,6,7,8],\n",
    "        'criterion' :['gini', 'entropy']\n",
    "    }\n",
    "    clf = GridSearchCV(estimator=model, param_grid=param_grid, cv= 3, n_jobs=-1)\n",
    "    clf.fit(df.iloc[:, :-1], df[\"label\"])\n",
    "    num_of_features = len(testing.columns)-1\n",
    "    y_pred = clf.predict_proba(testing.iloc[:, :num_of_features])[:, np.where(clf.classes_==1)[0][0]]\n",
    "    \n",
    "    # auc\n",
    "    auc = roc_auc_score(testing[\"label\"], y_pred)\n",
    "    \n",
    "    # f1\n",
    "    at = testing[\"label\"].value_counts()[1]\n",
    "    correct = 0\n",
    "    prediction_list = list(zip(y_pred, testing[\"label\"]))\n",
    "    prediction_list.sort(reverse = True)\n",
    "    for pred in prediction_list[:at]:\n",
    "        if pred[1] == 1 and pred[0] != 0:\n",
    "            correct += 1\n",
    "    f1 = correct / at\n",
    "    \n",
    "    # feature_importance_figure_output\n",
    "    importances = clf.best_estimator_.feature_importances_\n",
    "    indices = np.argsort(importances)[::-1]\n",
    "    names = [testing.iloc[:, :num_of_features].columns[i] for i in indices]\n",
    "    fig = plt.figure()\n",
    "    plt.figure(figsize=(15,9))\n",
    "    plt.title(\"Feature Importance\")\n",
    "    plt.bar(range(num_of_features), importances[indices])\n",
    "    plt.xticks(range(num_of_features), names, rotation=30)\n",
    "    plt.savefig(\"{}_feature_importance.png\".format(i))\n",
    "    plt.close() # not showing the plot\n",
    "    \n",
    "    return auc, f1"
   ]
  },
  {
   "cell_type": "code",
   "execution_count": null,
   "metadata": {
    "collapsed": true
   },
   "outputs": [],
   "source": []
  },
  {
   "cell_type": "markdown",
   "metadata": {},
   "source": [
    "# logistic regression "
   ]
  },
  {
   "cell_type": "code",
   "execution_count": 7,
   "metadata": {
    "collapsed": true
   },
   "outputs": [],
   "source": [
    "def logistic(df, testing):\n",
    "    model = LogisticRegression()\n",
    "    param_grid = { \n",
    "        'penalty': ['l1', 'l2'], \n",
    "        'C': np.logspace(0, 4, 15)\n",
    "    }\n",
    "    clf = GridSearchCV(estimator=model, param_grid=param_grid, cv= 3, n_jobs=-1)\n",
    "    clf.fit(df.iloc[:, :-1], df[\"label\"])\n",
    "    num_of_features = len(testing.columns)-1\n",
    "    y_pred = clf.predict_proba(testing.iloc[:, :num_of_features])[:, np.where(clf.classes_==1)[0][0]]\n",
    "    \n",
    "    # auc\n",
    "    auc = roc_auc_score(testing[\"label\"], y_pred)\n",
    "    \n",
    "    # f1\n",
    "    at = testing[\"label\"].value_counts()[1]\n",
    "    correct = 0\n",
    "    prediction_list = list(zip(y_pred, testing[\"label\"]))\n",
    "    prediction_list.sort(reverse = True)\n",
    "    for pred in prediction_list[:at]:\n",
    "        if pred[1] == 1 and pred[0] != 0:\n",
    "            correct += 1\n",
    "    f1 = correct / at\n",
    "    \n",
    "    return auc, f1"
   ]
  },
  {
   "cell_type": "code",
   "execution_count": null,
   "metadata": {
    "collapsed": true
   },
   "outputs": [],
   "source": []
  },
  {
   "cell_type": "markdown",
   "metadata": {
    "collapsed": true
   },
   "source": [
    "# svm"
   ]
  },
  {
   "cell_type": "code",
   "execution_count": null,
   "metadata": {
    "collapsed": true
   },
   "outputs": [],
   "source": [
    "# discarded, very time consuming when predict_proba\n",
    "# https://stackoverflow.com/questions/15111408/how-does-sklearn-svm-svcs-function-predict-proba-work-internally"
   ]
  },
  {
   "cell_type": "code",
   "execution_count": 29,
   "metadata": {
    "collapsed": true
   },
   "outputs": [],
   "source": [
    "def svm(df, testing):\n",
    "    model = SVC()\n",
    "    param_grid = {'C': [1, 10, 100, 1000], 'kernel': ['linear'], \"probability\": [True]}\n",
    "      #{'C': [1, 10, 100, 1000], 'gamma': [0.001, 0.0001], 'kernel': ['rbf'], \"probability\": [True]},\n",
    "        \n",
    "    \n",
    "    clf = GridSearchCV(estimator=model, param_grid=param_grid, cv= 3, n_jobs=-1)\n",
    "    clf.fit(df.iloc[:, :-1], df[\"label\"])\n",
    "    num_of_features = len(testing.columns)-1\n",
    "    y_pred = clf.predict_proba(testing.iloc[:, :num_of_features], )[:, np.where(clf.classes_==1)[0][0]]\n",
    "    \n",
    "    # auc\n",
    "    auc = roc_auc_score(testing[\"label\"], y_pred)\n",
    "    \n",
    "    # f1\n",
    "    at = testing[\"label\"].value_counts()[1]\n",
    "    correct = 0\n",
    "    prediction_list = list(zip(y_pred, testing[\"label\"]))\n",
    "    prediction_list.sort(reverse = True)\n",
    "    for pred in prediction_list[:at]:\n",
    "        if pred[1] == 1 and pred[0] != 0:\n",
    "            correct += 1\n",
    "    f1 = correct / at\n",
    "    \n",
    "    return auc, f1"
   ]
  },
  {
   "cell_type": "code",
   "execution_count": null,
   "metadata": {
    "collapsed": true
   },
   "outputs": [],
   "source": []
  },
  {
   "cell_type": "code",
   "execution_count": null,
   "metadata": {
    "collapsed": true
   },
   "outputs": [],
   "source": []
  },
  {
   "cell_type": "code",
   "execution_count": null,
   "metadata": {
    "collapsed": true
   },
   "outputs": [],
   "source": []
  },
  {
   "cell_type": "code",
   "execution_count": null,
   "metadata": {
    "collapsed": true
   },
   "outputs": [],
   "source": []
  },
  {
   "cell_type": "code",
   "execution_count": null,
   "metadata": {
    "collapsed": true
   },
   "outputs": [],
   "source": []
  },
  {
   "cell_type": "code",
   "execution_count": null,
   "metadata": {
    "collapsed": true
   },
   "outputs": [],
   "source": []
  }
 ],
 "metadata": {
  "kernelspec": {
   "display_name": "Python 3",
   "language": "python",
   "name": "python3"
  },
  "language_info": {
   "codemirror_mode": {
    "name": "ipython",
    "version": 3
   },
   "file_extension": ".py",
   "mimetype": "text/x-python",
   "name": "python",
   "nbconvert_exporter": "python",
   "pygments_lexer": "ipython3",
   "version": "3.6.3"
  }
 },
 "nbformat": 4,
 "nbformat_minor": 2
}
